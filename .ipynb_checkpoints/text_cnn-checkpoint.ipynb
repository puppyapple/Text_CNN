{
 "cells": [
  {
   "cell_type": "markdown",
   "metadata": {},
   "source": [
    "# TextCNN尝试"
   ]
  },
  {
   "cell_type": "code",
   "execution_count": 49,
   "metadata": {},
   "outputs": [],
   "source": [
    "import pandas as pd\n",
    "import numpy as np\n",
    "import configparser\n",
    "import pymysql\n",
    "import matplotlib.pyplot as plt\n",
    "import jieba\n",
    "import jieba.analyse\n",
    "import gensim\n",
    "import pickle\n",
    "import fasttext\n",
    "from sklearn.model_selection import train_test_split\n",
    "from collections import Counter\n",
    "%matplotlib inline\n",
    "import fool"
   ]
  },
  {
   "cell_type": "code",
   "execution_count": 6,
   "metadata": {},
   "outputs": [],
   "source": [
    "config = configparser.ConfigParser()\n",
    "config.read(\"../Data/Input/database_config/database.conf\")\n",
    "host = config['ASSESSMENT']['host']\n",
    "user = config['ASSESSMENT']['user']\n",
    "password = config['ASSESSMENT']['password']\n",
    "database = config['ASSESSMENT']['database']\n",
    "port = config['ASSESSMENT']['port']\n",
    "charset = config['ASSESSMENT']['charset']\n",
    "db = pymysql.connect(host=host, user=user, password=password, db=database, port=int(port), charset=charset)"
   ]
  },
  {
   "cell_type": "markdown",
   "metadata": {},
   "source": [
    "## 一、数据预处理"
   ]
  },
  {
   "cell_type": "markdown",
   "metadata": {},
   "source": [
    "### 从数据库读取标签和文本信息"
   ]
  },
  {
   "cell_type": "code",
   "execution_count": 10,
   "metadata": {},
   "outputs": [],
   "source": [
    "sql_intro = \"select * from company_intro_info_latest0601\"\n",
    "sql_tag = \"select * from company_tag_info_latest0601\"\n",
    "data_intro = pd.read_sql(sql_intro, con=db)\n",
    "data_tag = pd.read_sql(sql_tag, con=db)"
   ]
  },
  {
   "cell_type": "code",
   "execution_count": 14,
   "metadata": {},
   "outputs": [],
   "source": [
    "# 剔除非概念标签和技术标签\n",
    "data_ctag_only = data_tag[(data_tag.remarks != \"1\") & (data_tag.classify_id != 4)].copy()"
   ]
  },
  {
   "cell_type": "code",
   "execution_count": 15,
   "metadata": {},
   "outputs": [
    {
     "data": {
      "text/html": [
       "<div>\n",
       "<style scoped>\n",
       "    .dataframe tbody tr th:only-of-type {\n",
       "        vertical-align: middle;\n",
       "    }\n",
       "\n",
       "    .dataframe tbody tr th {\n",
       "        vertical-align: top;\n",
       "    }\n",
       "\n",
       "    .dataframe thead th {\n",
       "        text-align: right;\n",
       "    }\n",
       "</style>\n",
       "<table border=\"1\" class=\"dataframe\">\n",
       "  <thead>\n",
       "    <tr style=\"text-align: right;\">\n",
       "      <th></th>\n",
       "      <th>id</th>\n",
       "      <th>comp_id</th>\n",
       "      <th>comp_full_name</th>\n",
       "      <th>label_id</th>\n",
       "      <th>label_name</th>\n",
       "      <th>label_refe_id</th>\n",
       "      <th>label_refe_name</th>\n",
       "      <th>classify_id</th>\n",
       "      <th>label_type</th>\n",
       "      <th>label_type_num</th>\n",
       "      <th>load_time</th>\n",
       "      <th>modify_time</th>\n",
       "      <th>load_person</th>\n",
       "      <th>src_tags</th>\n",
       "      <th>info_key</th>\n",
       "      <th>remarks</th>\n",
       "      <th>del_flag</th>\n",
       "      <th>data_source</th>\n",
       "      <th>modify_person</th>\n",
       "    </tr>\n",
       "  </thead>\n",
       "  <tbody>\n",
       "    <tr>\n",
       "      <th>812677</th>\n",
       "      <td>6926269</td>\n",
       "      <td>13148896927021693000</td>\n",
       "      <td>北京微吼时代科技有限公司</td>\n",
       "      <td>None</td>\n",
       "      <td>文化娱乐行业</td>\n",
       "      <td>None</td>\n",
       "      <td>None</td>\n",
       "      <td>2</td>\n",
       "      <td>1</td>\n",
       "      <td>1</td>\n",
       "      <td>2018-06-01 19:27:15</td>\n",
       "      <td>2018-06-01 19:27:15</td>\n",
       "      <td>jhx</td>\n",
       "      <td>文化娱乐行业-视频直播</td>\n",
       "      <td>4800646622910500233</td>\n",
       "      <td>None</td>\n",
       "      <td>0</td>\n",
       "      <td>None</td>\n",
       "      <td>None</td>\n",
       "    </tr>\n",
       "  </tbody>\n",
       "</table>\n",
       "</div>"
      ],
      "text/plain": [
       "             id               comp_id comp_full_name label_id label_name  \\\n",
       "812677  6926269  13148896927021693000   北京微吼时代科技有限公司     None     文化娱乐行业   \n",
       "\n",
       "       label_refe_id label_refe_name  classify_id  label_type  label_type_num  \\\n",
       "812677          None            None            2           1               1   \n",
       "\n",
       "                 load_time         modify_time load_person     src_tags  \\\n",
       "812677 2018-06-01 19:27:15 2018-06-01 19:27:15         jhx  文化娱乐行业-视频直播   \n",
       "\n",
       "                   info_key remarks  del_flag data_source modify_person  \n",
       "812677  4800646622910500233    None         0        None          None  "
      ]
     },
     "execution_count": 15,
     "metadata": {},
     "output_type": "execute_result"
    }
   ],
   "source": [
    "data_ctag_only.head(1)"
   ]
  },
  {
   "cell_type": "code",
   "execution_count": 16,
   "metadata": {},
   "outputs": [
    {
     "data": {
      "text/html": [
       "<div>\n",
       "<style scoped>\n",
       "    .dataframe tbody tr th:only-of-type {\n",
       "        vertical-align: middle;\n",
       "    }\n",
       "\n",
       "    .dataframe tbody tr th {\n",
       "        vertical-align: top;\n",
       "    }\n",
       "\n",
       "    .dataframe thead th {\n",
       "        text-align: right;\n",
       "    }\n",
       "</style>\n",
       "<table border=\"1\" class=\"dataframe\">\n",
       "  <thead>\n",
       "    <tr style=\"text-align: right;\">\n",
       "      <th></th>\n",
       "      <th>id</th>\n",
       "      <th>comp_id</th>\n",
       "      <th>comp_full_name</th>\n",
       "      <th>intro</th>\n",
       "      <th>source_y</th>\n",
       "      <th>load_time</th>\n",
       "      <th>modify_time</th>\n",
       "      <th>load_person</th>\n",
       "      <th>modify_person</th>\n",
       "      <th>remarks</th>\n",
       "      <th>data_source</th>\n",
       "      <th>del_flag</th>\n",
       "      <th>classify_id</th>\n",
       "      <th>intro_key</th>\n",
       "    </tr>\n",
       "  </thead>\n",
       "  <tbody>\n",
       "    <tr>\n",
       "      <th>0</th>\n",
       "      <td>31922</td>\n",
       "      <td>10022956169995483090</td>\n",
       "      <td>常州众股网络科技有限公司</td>\n",
       "      <td>常州众股网络科技有限公司是一家集传媒、公益、实业等领域组成的新兴集团公司，致力于让广告主的广...</td>\n",
       "      <td>smt</td>\n",
       "      <td>2018-06-01 19:27:14</td>\n",
       "      <td>2018-06-01 19:27:14</td>\n",
       "      <td>jhx</td>\n",
       "      <td>None</td>\n",
       "      <td>None</td>\n",
       "      <td>None</td>\n",
       "      <td>0</td>\n",
       "      <td>4</td>\n",
       "      <td>4781149490004686310</td>\n",
       "    </tr>\n",
       "  </tbody>\n",
       "</table>\n",
       "</div>"
      ],
      "text/plain": [
       "      id               comp_id comp_full_name  \\\n",
       "0  31922  10022956169995483090   常州众股网络科技有限公司   \n",
       "\n",
       "                                               intro source_y  \\\n",
       "0  常州众股网络科技有限公司是一家集传媒、公益、实业等领域组成的新兴集团公司，致力于让广告主的广...      smt   \n",
       "\n",
       "            load_time         modify_time load_person modify_person remarks  \\\n",
       "0 2018-06-01 19:27:14 2018-06-01 19:27:14         jhx          None    None   \n",
       "\n",
       "  data_source  del_flag  classify_id            intro_key  \n",
       "0        None         0            4  4781149490004686310  "
      ]
     },
     "execution_count": 16,
     "metadata": {},
     "output_type": "execute_result"
    }
   ],
   "source": [
    "data_intro.head(1)"
   ]
  },
  {
   "cell_type": "code",
   "execution_count": 17,
   "metadata": {},
   "outputs": [],
   "source": [
    "ctag_count = data_ctag_only.groupby(\"label_name\").agg({\"comp_full_name\": \"count\"}).sort_values(by=\"comp_full_name\", ascending=False).reset_index()"
   ]
  },
  {
   "cell_type": "code",
   "execution_count": 18,
   "metadata": {},
   "outputs": [
    {
     "data": {
      "text/html": [
       "<div>\n",
       "<style scoped>\n",
       "    .dataframe tbody tr th:only-of-type {\n",
       "        vertical-align: middle;\n",
       "    }\n",
       "\n",
       "    .dataframe tbody tr th {\n",
       "        vertical-align: top;\n",
       "    }\n",
       "\n",
       "    .dataframe thead th {\n",
       "        text-align: right;\n",
       "    }\n",
       "</style>\n",
       "<table border=\"1\" class=\"dataframe\">\n",
       "  <thead>\n",
       "    <tr style=\"text-align: right;\">\n",
       "      <th></th>\n",
       "      <th>label_name</th>\n",
       "      <th>comp_full_name</th>\n",
       "    </tr>\n",
       "  </thead>\n",
       "  <tbody>\n",
       "    <tr>\n",
       "      <th>0</th>\n",
       "      <td>文化创意产业</td>\n",
       "      <td>41111</td>\n",
       "    </tr>\n",
       "    <tr>\n",
       "      <th>1</th>\n",
       "      <td>商务服务</td>\n",
       "      <td>33067</td>\n",
       "    </tr>\n",
       "    <tr>\n",
       "      <th>2</th>\n",
       "      <td>新型材料产业</td>\n",
       "      <td>18280</td>\n",
       "    </tr>\n",
       "    <tr>\n",
       "      <th>3</th>\n",
       "      <td>科技金融</td>\n",
       "      <td>12550</td>\n",
       "    </tr>\n",
       "    <tr>\n",
       "      <th>4</th>\n",
       "      <td>视觉传达</td>\n",
       "      <td>11990</td>\n",
       "    </tr>\n",
       "    <tr>\n",
       "      <th>5</th>\n",
       "      <td>医疗健康行业</td>\n",
       "      <td>11847</td>\n",
       "    </tr>\n",
       "    <tr>\n",
       "      <th>6</th>\n",
       "      <td>文娱传媒</td>\n",
       "      <td>11503</td>\n",
       "    </tr>\n",
       "    <tr>\n",
       "      <th>7</th>\n",
       "      <td>咨询与调查</td>\n",
       "      <td>11002</td>\n",
       "    </tr>\n",
       "    <tr>\n",
       "      <th>8</th>\n",
       "      <td>大数据产业</td>\n",
       "      <td>9805</td>\n",
       "    </tr>\n",
       "    <tr>\n",
       "      <th>9</th>\n",
       "      <td>其他商务服务业</td>\n",
       "      <td>9648</td>\n",
       "    </tr>\n",
       "    <tr>\n",
       "      <th>10</th>\n",
       "      <td>高品质生活服务</td>\n",
       "      <td>9495</td>\n",
       "    </tr>\n",
       "    <tr>\n",
       "      <th>11</th>\n",
       "      <td>科技服务</td>\n",
       "      <td>8638</td>\n",
       "    </tr>\n",
       "    <tr>\n",
       "      <th>12</th>\n",
       "      <td>社会经济咨询</td>\n",
       "      <td>8471</td>\n",
       "    </tr>\n",
       "    <tr>\n",
       "      <th>13</th>\n",
       "      <td>平面设计</td>\n",
       "      <td>8434</td>\n",
       "    </tr>\n",
       "    <tr>\n",
       "      <th>14</th>\n",
       "      <td>文化与传媒</td>\n",
       "      <td>8210</td>\n",
       "    </tr>\n",
       "    <tr>\n",
       "      <th>15</th>\n",
       "      <td>时尚消费创意设计</td>\n",
       "      <td>8137</td>\n",
       "    </tr>\n",
       "    <tr>\n",
       "      <th>16</th>\n",
       "      <td>广告设计</td>\n",
       "      <td>7402</td>\n",
       "    </tr>\n",
       "    <tr>\n",
       "      <th>17</th>\n",
       "      <td>建筑与环境</td>\n",
       "      <td>7356</td>\n",
       "    </tr>\n",
       "    <tr>\n",
       "      <th>18</th>\n",
       "      <td>泛娱乐</td>\n",
       "      <td>7061</td>\n",
       "    </tr>\n",
       "    <tr>\n",
       "      <th>19</th>\n",
       "      <td>生物科学</td>\n",
       "      <td>7051</td>\n",
       "    </tr>\n",
       "    <tr>\n",
       "      <th>20</th>\n",
       "      <td>广告业</td>\n",
       "      <td>6905</td>\n",
       "    </tr>\n",
       "    <tr>\n",
       "      <th>21</th>\n",
       "      <td>广告服务</td>\n",
       "      <td>6796</td>\n",
       "    </tr>\n",
       "    <tr>\n",
       "      <th>22</th>\n",
       "      <td>金属材料</td>\n",
       "      <td>6719</td>\n",
       "    </tr>\n",
       "    <tr>\n",
       "      <th>23</th>\n",
       "      <td>智能网联汽车</td>\n",
       "      <td>6661</td>\n",
       "    </tr>\n",
       "    <tr>\n",
       "      <th>24</th>\n",
       "      <td>建筑设计</td>\n",
       "      <td>6512</td>\n",
       "    </tr>\n",
       "    <tr>\n",
       "      <th>25</th>\n",
       "      <td>生物医药</td>\n",
       "      <td>6370</td>\n",
       "    </tr>\n",
       "    <tr>\n",
       "      <th>26</th>\n",
       "      <td>云计算产业</td>\n",
       "      <td>5921</td>\n",
       "    </tr>\n",
       "    <tr>\n",
       "      <th>27</th>\n",
       "      <td>软件和信息技术服务</td>\n",
       "      <td>5609</td>\n",
       "    </tr>\n",
       "    <tr>\n",
       "      <th>28</th>\n",
       "      <td>医药产业</td>\n",
       "      <td>5580</td>\n",
       "    </tr>\n",
       "    <tr>\n",
       "      <th>29</th>\n",
       "      <td>类理财业务</td>\n",
       "      <td>5544</td>\n",
       "    </tr>\n",
       "    <tr>\n",
       "      <th>...</th>\n",
       "      <td>...</td>\n",
       "      <td>...</td>\n",
       "    </tr>\n",
       "    <tr>\n",
       "      <th>100</th>\n",
       "      <td>租车</td>\n",
       "      <td>1372</td>\n",
       "    </tr>\n",
       "    <tr>\n",
       "      <th>101</th>\n",
       "      <td>不锈钢材料</td>\n",
       "      <td>1365</td>\n",
       "    </tr>\n",
       "    <tr>\n",
       "      <th>102</th>\n",
       "      <td>类投资业务</td>\n",
       "      <td>1356</td>\n",
       "    </tr>\n",
       "    <tr>\n",
       "      <th>103</th>\n",
       "      <td>数据产业支撑</td>\n",
       "      <td>1317</td>\n",
       "    </tr>\n",
       "    <tr>\n",
       "      <th>104</th>\n",
       "      <td>科技物流</td>\n",
       "      <td>1316</td>\n",
       "    </tr>\n",
       "    <tr>\n",
       "      <th>105</th>\n",
       "      <td>手游开发</td>\n",
       "      <td>1312</td>\n",
       "    </tr>\n",
       "    <tr>\n",
       "      <th>106</th>\n",
       "      <td>绘画</td>\n",
       "      <td>1293</td>\n",
       "    </tr>\n",
       "    <tr>\n",
       "      <th>107</th>\n",
       "      <td>游戏运营</td>\n",
       "      <td>1291</td>\n",
       "    </tr>\n",
       "    <tr>\n",
       "      <th>108</th>\n",
       "      <td>一般性求职招聘服务</td>\n",
       "      <td>1271</td>\n",
       "    </tr>\n",
       "    <tr>\n",
       "      <th>109</th>\n",
       "      <td>行业大数据</td>\n",
       "      <td>1261</td>\n",
       "    </tr>\n",
       "    <tr>\n",
       "      <th>110</th>\n",
       "      <td>供应链管理服务</td>\n",
       "      <td>1236</td>\n",
       "    </tr>\n",
       "    <tr>\n",
       "      <th>111</th>\n",
       "      <td>高品质购物</td>\n",
       "      <td>1234</td>\n",
       "    </tr>\n",
       "    <tr>\n",
       "      <th>112</th>\n",
       "      <td>行业大数据应用</td>\n",
       "      <td>1224</td>\n",
       "    </tr>\n",
       "    <tr>\n",
       "      <th>113</th>\n",
       "      <td>高品质养生</td>\n",
       "      <td>1222</td>\n",
       "    </tr>\n",
       "    <tr>\n",
       "      <th>114</th>\n",
       "      <td>医药零售</td>\n",
       "      <td>1221</td>\n",
       "    </tr>\n",
       "    <tr>\n",
       "      <th>115</th>\n",
       "      <td>旅行社及相关服务</td>\n",
       "      <td>1190</td>\n",
       "    </tr>\n",
       "    <tr>\n",
       "      <th>116</th>\n",
       "      <td>数据服务</td>\n",
       "      <td>1184</td>\n",
       "    </tr>\n",
       "    <tr>\n",
       "      <th>117</th>\n",
       "      <td>创意礼品设计</td>\n",
       "      <td>1168</td>\n",
       "    </tr>\n",
       "    <tr>\n",
       "      <th>118</th>\n",
       "      <td>印刷制版设计</td>\n",
       "      <td>1149</td>\n",
       "    </tr>\n",
       "    <tr>\n",
       "      <th>119</th>\n",
       "      <td>集成服务</td>\n",
       "      <td>1130</td>\n",
       "    </tr>\n",
       "    <tr>\n",
       "      <th>120</th>\n",
       "      <td>智慧城市应用</td>\n",
       "      <td>1128</td>\n",
       "    </tr>\n",
       "    <tr>\n",
       "      <th>121</th>\n",
       "      <td>包装服务</td>\n",
       "      <td>1110</td>\n",
       "    </tr>\n",
       "    <tr>\n",
       "      <th>122</th>\n",
       "      <td>资讯媒体</td>\n",
       "      <td>1107</td>\n",
       "    </tr>\n",
       "    <tr>\n",
       "      <th>123</th>\n",
       "      <td>动漫内容制作</td>\n",
       "      <td>1090</td>\n",
       "    </tr>\n",
       "    <tr>\n",
       "      <th>124</th>\n",
       "      <td>健康管家</td>\n",
       "      <td>1076</td>\n",
       "    </tr>\n",
       "    <tr>\n",
       "      <th>125</th>\n",
       "      <td>平台即服务</td>\n",
       "      <td>1061</td>\n",
       "    </tr>\n",
       "    <tr>\n",
       "      <th>126</th>\n",
       "      <td>数据分析</td>\n",
       "      <td>1040</td>\n",
       "    </tr>\n",
       "    <tr>\n",
       "      <th>127</th>\n",
       "      <td>汽车金融保险</td>\n",
       "      <td>1021</td>\n",
       "    </tr>\n",
       "    <tr>\n",
       "      <th>128</th>\n",
       "      <td>零售O2O</td>\n",
       "      <td>1015</td>\n",
       "    </tr>\n",
       "    <tr>\n",
       "      <th>129</th>\n",
       "      <td>中国特色文化</td>\n",
       "      <td>1009</td>\n",
       "    </tr>\n",
       "  </tbody>\n",
       "</table>\n",
       "<p>130 rows × 2 columns</p>\n",
       "</div>"
      ],
      "text/plain": [
       "    label_name  comp_full_name\n",
       "0       文化创意产业           41111\n",
       "1         商务服务           33067\n",
       "2       新型材料产业           18280\n",
       "3         科技金融           12550\n",
       "4         视觉传达           11990\n",
       "5       医疗健康行业           11847\n",
       "6         文娱传媒           11503\n",
       "7        咨询与调查           11002\n",
       "8        大数据产业            9805\n",
       "9      其他商务服务业            9648\n",
       "10     高品质生活服务            9495\n",
       "11        科技服务            8638\n",
       "12      社会经济咨询            8471\n",
       "13        平面设计            8434\n",
       "14       文化与传媒            8210\n",
       "15    时尚消费创意设计            8137\n",
       "16        广告设计            7402\n",
       "17       建筑与环境            7356\n",
       "18         泛娱乐            7061\n",
       "19        生物科学            7051\n",
       "20         广告业            6905\n",
       "21        广告服务            6796\n",
       "22        金属材料            6719\n",
       "23      智能网联汽车            6661\n",
       "24        建筑设计            6512\n",
       "25        生物医药            6370\n",
       "26       云计算产业            5921\n",
       "27   软件和信息技术服务            5609\n",
       "28        医药产业            5580\n",
       "29       类理财业务            5544\n",
       "..         ...             ...\n",
       "100         租车            1372\n",
       "101      不锈钢材料            1365\n",
       "102      类投资业务            1356\n",
       "103     数据产业支撑            1317\n",
       "104       科技物流            1316\n",
       "105       手游开发            1312\n",
       "106         绘画            1293\n",
       "107       游戏运营            1291\n",
       "108  一般性求职招聘服务            1271\n",
       "109      行业大数据            1261\n",
       "110    供应链管理服务            1236\n",
       "111      高品质购物            1234\n",
       "112    行业大数据应用            1224\n",
       "113      高品质养生            1222\n",
       "114       医药零售            1221\n",
       "115   旅行社及相关服务            1190\n",
       "116       数据服务            1184\n",
       "117     创意礼品设计            1168\n",
       "118     印刷制版设计            1149\n",
       "119       集成服务            1130\n",
       "120     智慧城市应用            1128\n",
       "121       包装服务            1110\n",
       "122       资讯媒体            1107\n",
       "123     动漫内容制作            1090\n",
       "124       健康管家            1076\n",
       "125      平台即服务            1061\n",
       "126       数据分析            1040\n",
       "127     汽车金融保险            1021\n",
       "128      零售O2O            1015\n",
       "129     中国特色文化            1009\n",
       "\n",
       "[130 rows x 2 columns]"
      ]
     },
     "execution_count": 18,
     "metadata": {},
     "output_type": "execute_result"
    }
   ],
   "source": [
    "ctag_count[ctag_count.comp_full_name >= 1000]"
   ]
  },
  {
   "cell_type": "markdown",
   "metadata": {},
   "source": [
    "### 分离出每个标签的标签链条，过滤进行中的产业链"
   ]
  },
  {
   "cell_type": "code",
   "execution_count": 19,
   "metadata": {},
   "outputs": [],
   "source": [
    "def src_tags_splitter(src_tags):\n",
    "    links = src_tags.split(\"#\")\n",
    "    tags_lists = [link.split(\"-\") for link in links]\n",
    "    tags = set([x for y in tags_lists for x in y])\n",
    "    return tags"
   ]
  },
  {
   "cell_type": "code",
   "execution_count": 20,
   "metadata": {},
   "outputs": [],
   "source": [
    "data_ctag_only[\"one_src_tags\"] = data_ctag_only[[\"label_type_num\", \"src_tags\"]].apply(lambda x: x[1].split(\"#\")[x[0] - 1], axis=1)"
   ]
  },
  {
   "cell_type": "code",
   "execution_count": 21,
   "metadata": {},
   "outputs": [],
   "source": [
    "data_ctag_only[\"tags_list\"] = data_ctag_only.src_tags.apply(lambda x: src_tags_splitter(x))"
   ]
  },
  {
   "cell_type": "code",
   "execution_count": 22,
   "metadata": {},
   "outputs": [],
   "source": [
    "filter_list = \"泛娱乐,生物科学,科技金融,智能网联汽车,科技物流,文化娱乐行业,数字媒体行业,广告营销行业,游戏行业,教育培训行业,电子商务行业,汽车交通,房产家装,医疗健康行业,新零售\".split(\",\")"
   ]
  },
  {
   "cell_type": "code",
   "execution_count": 23,
   "metadata": {},
   "outputs": [],
   "source": [
    "data_ctag_filtered = data_ctag_only[~data_ctag_only.one_src_tags.apply(lambda x: x.split(\"-\")[0]).isin(filter_list)][[\"comp_id\", \"comp_full_name\", \"label_name\", \"src_tags\", \"one_src_tags\", \"tags_list\"]].copy()"
   ]
  },
  {
   "cell_type": "code",
   "execution_count": 24,
   "metadata": {},
   "outputs": [
    {
     "data": {
      "text/html": [
       "<div>\n",
       "<style scoped>\n",
       "    .dataframe tbody tr th:only-of-type {\n",
       "        vertical-align: middle;\n",
       "    }\n",
       "\n",
       "    .dataframe tbody tr th {\n",
       "        vertical-align: top;\n",
       "    }\n",
       "\n",
       "    .dataframe thead th {\n",
       "        text-align: right;\n",
       "    }\n",
       "</style>\n",
       "<table border=\"1\" class=\"dataframe\">\n",
       "  <thead>\n",
       "    <tr style=\"text-align: right;\">\n",
       "      <th></th>\n",
       "      <th>comp_id</th>\n",
       "      <th>comp_full_name</th>\n",
       "      <th>label_name</th>\n",
       "      <th>src_tags</th>\n",
       "      <th>one_src_tags</th>\n",
       "      <th>tags_list</th>\n",
       "    </tr>\n",
       "  </thead>\n",
       "  <tbody>\n",
       "    <tr>\n",
       "      <th>812703</th>\n",
       "      <td>15907682253113655910</td>\n",
       "      <td>北京帕伯利森公关顾问有限公司</td>\n",
       "      <td>文化创意产业</td>\n",
       "      <td>文化创意产业-文娱传媒-文化与传媒-营销策略</td>\n",
       "      <td>文化创意产业-文娱传媒-文化与传媒-营销策略</td>\n",
       "      <td>{文娱传媒, 营销策略, 文化创意产业, 文化与传媒}</td>\n",
       "    </tr>\n",
       "    <tr>\n",
       "      <th>812704</th>\n",
       "      <td>15907682253113655910</td>\n",
       "      <td>北京帕伯利森公关顾问有限公司</td>\n",
       "      <td>文娱传媒</td>\n",
       "      <td>文化创意产业-文娱传媒-文化与传媒-营销策略</td>\n",
       "      <td>文化创意产业-文娱传媒-文化与传媒-营销策略</td>\n",
       "      <td>{文娱传媒, 营销策略, 文化创意产业, 文化与传媒}</td>\n",
       "    </tr>\n",
       "    <tr>\n",
       "      <th>812705</th>\n",
       "      <td>15907682253113655910</td>\n",
       "      <td>北京帕伯利森公关顾问有限公司</td>\n",
       "      <td>文化与传媒</td>\n",
       "      <td>文化创意产业-文娱传媒-文化与传媒-营销策略</td>\n",
       "      <td>文化创意产业-文娱传媒-文化与传媒-营销策略</td>\n",
       "      <td>{文娱传媒, 营销策略, 文化创意产业, 文化与传媒}</td>\n",
       "    </tr>\n",
       "    <tr>\n",
       "      <th>812706</th>\n",
       "      <td>15907682253113655910</td>\n",
       "      <td>北京帕伯利森公关顾问有限公司</td>\n",
       "      <td>营销策略</td>\n",
       "      <td>文化创意产业-文娱传媒-文化与传媒-营销策略</td>\n",
       "      <td>文化创意产业-文娱传媒-文化与传媒-营销策略</td>\n",
       "      <td>{文娱传媒, 营销策略, 文化创意产业, 文化与传媒}</td>\n",
       "    </tr>\n",
       "    <tr>\n",
       "      <th>812710</th>\n",
       "      <td>4925886916505930450</td>\n",
       "      <td>大连金普新区商品现货合约交易中心有限公司</td>\n",
       "      <td>大数据产业</td>\n",
       "      <td>大数据产业-数据处理</td>\n",
       "      <td>大数据产业-数据处理</td>\n",
       "      <td>{数据处理, 大数据产业}</td>\n",
       "    </tr>\n",
       "  </tbody>\n",
       "</table>\n",
       "</div>"
      ],
      "text/plain": [
       "                     comp_id        comp_full_name label_name  \\\n",
       "812703  15907682253113655910        北京帕伯利森公关顾问有限公司     文化创意产业   \n",
       "812704  15907682253113655910        北京帕伯利森公关顾问有限公司       文娱传媒   \n",
       "812705  15907682253113655910        北京帕伯利森公关顾问有限公司      文化与传媒   \n",
       "812706  15907682253113655910        北京帕伯利森公关顾问有限公司       营销策略   \n",
       "812710   4925886916505930450  大连金普新区商品现货合约交易中心有限公司      大数据产业   \n",
       "\n",
       "                      src_tags            one_src_tags  \\\n",
       "812703  文化创意产业-文娱传媒-文化与传媒-营销策略  文化创意产业-文娱传媒-文化与传媒-营销策略   \n",
       "812704  文化创意产业-文娱传媒-文化与传媒-营销策略  文化创意产业-文娱传媒-文化与传媒-营销策略   \n",
       "812705  文化创意产业-文娱传媒-文化与传媒-营销策略  文化创意产业-文娱传媒-文化与传媒-营销策略   \n",
       "812706  文化创意产业-文娱传媒-文化与传媒-营销策略  文化创意产业-文娱传媒-文化与传媒-营销策略   \n",
       "812710              大数据产业-数据处理              大数据产业-数据处理   \n",
       "\n",
       "                          tags_list  \n",
       "812703  {文娱传媒, 营销策略, 文化创意产业, 文化与传媒}  \n",
       "812704  {文娱传媒, 营销策略, 文化创意产业, 文化与传媒}  \n",
       "812705  {文娱传媒, 营销策略, 文化创意产业, 文化与传媒}  \n",
       "812706  {文娱传媒, 营销策略, 文化创意产业, 文化与传媒}  \n",
       "812710                {数据处理, 大数据产业}  "
      ]
     },
     "execution_count": 24,
     "metadata": {},
     "output_type": "execute_result"
    }
   ],
   "source": [
    "data_ctag_filtered.head()"
   ]
  },
  {
   "cell_type": "code",
   "execution_count": 17,
   "metadata": {},
   "outputs": [],
   "source": [
    "ctag_filtered_count = data_ctag_filtered.groupby(\"label_name\").agg({\"comp_full_name\": \"count\"}).sort_values(by=\"comp_full_name\", ascending=False).reset_index()"
   ]
  },
  {
   "cell_type": "markdown",
   "metadata": {},
   "source": [
    "### 根据公司名字过滤公司简介，并作合并、分词"
   ]
  },
  {
   "cell_type": "code",
   "execution_count": 26,
   "metadata": {},
   "outputs": [],
   "source": [
    "data_intro_filtered = data_intro[(data_intro.comp_id.isin(data_ctag_filtered.comp_id)) & (data_intro.classify_id != 4)][[\"comp_id\", \"comp_full_name\", \"intro\"]].copy()"
   ]
  },
  {
   "cell_type": "code",
   "execution_count": 27,
   "metadata": {},
   "outputs": [
    {
     "data": {
      "text/html": [
       "<div>\n",
       "<style scoped>\n",
       "    .dataframe tbody tr th:only-of-type {\n",
       "        vertical-align: middle;\n",
       "    }\n",
       "\n",
       "    .dataframe tbody tr th {\n",
       "        vertical-align: top;\n",
       "    }\n",
       "\n",
       "    .dataframe thead th {\n",
       "        text-align: right;\n",
       "    }\n",
       "</style>\n",
       "<table border=\"1\" class=\"dataframe\">\n",
       "  <thead>\n",
       "    <tr style=\"text-align: right;\">\n",
       "      <th></th>\n",
       "      <th>comp_id</th>\n",
       "      <th>comp_full_name</th>\n",
       "      <th>intro</th>\n",
       "    </tr>\n",
       "  </thead>\n",
       "  <tbody>\n",
       "    <tr>\n",
       "      <th>14</th>\n",
       "      <td>15907682253113655910</td>\n",
       "      <td>北京帕伯利森公关顾问有限公司</td>\n",
       "      <td>帕伯利森公司是国内专业的企业第三方公关营销服务机构，为企业提供公司品牌战略级或产品级的公关营...</td>\n",
       "    </tr>\n",
       "  </tbody>\n",
       "</table>\n",
       "</div>"
      ],
      "text/plain": [
       "                 comp_id   comp_full_name  \\\n",
       "14  15907682253113655910   北京帕伯利森公关顾问有限公司   \n",
       "\n",
       "                                                intro  \n",
       "14  帕伯利森公司是国内专业的企业第三方公关营销服务机构，为企业提供公司品牌战略级或产品级的公关营...  "
      ]
     },
     "execution_count": 27,
     "metadata": {},
     "output_type": "execute_result"
    }
   ],
   "source": [
    "data_intro_filtered.head(1)"
   ]
  },
  {
   "cell_type": "code",
   "execution_count": 29,
   "metadata": {},
   "outputs": [],
   "source": [
    "data_intro_filtered_merged = data_intro_filtered.groupby(\"comp_id\").agg({\"comp_full_name\": max, \"intro\": lambda x: \"。\".join(x)})"
   ]
  },
  {
   "cell_type": "code",
   "execution_count": 30,
   "metadata": {},
   "outputs": [
    {
     "data": {
      "text/plain": [
       "(100965, 100965, 100965)"
      ]
     },
     "execution_count": 30,
     "metadata": {},
     "output_type": "execute_result"
    }
   ],
   "source": [
    "len(data_intro_filtered_merged), len(set(data_intro_filtered.comp_id)), len(set(data_ctag_filtered.comp_id))"
   ]
  },
  {
   "cell_type": "code",
   "execution_count": null,
   "metadata": {},
   "outputs": [],
   "source": [
    "data_intro_filtered_merged[\"words\"] = data_intro_filtered_merged.intro.apply(lambda x: jieba.lcut(x.strip()))"
   ]
  },
  {
   "cell_type": "code",
   "execution_count": 32,
   "metadata": {},
   "outputs": [
    {
     "data": {
      "text/html": [
       "<div>\n",
       "<style scoped>\n",
       "    .dataframe tbody tr th:only-of-type {\n",
       "        vertical-align: middle;\n",
       "    }\n",
       "\n",
       "    .dataframe tbody tr th {\n",
       "        vertical-align: top;\n",
       "    }\n",
       "\n",
       "    .dataframe thead th {\n",
       "        text-align: right;\n",
       "    }\n",
       "</style>\n",
       "<table border=\"1\" class=\"dataframe\">\n",
       "  <thead>\n",
       "    <tr style=\"text-align: right;\">\n",
       "      <th></th>\n",
       "      <th>comp_full_name</th>\n",
       "      <th>intro</th>\n",
       "      <th>words</th>\n",
       "    </tr>\n",
       "    <tr>\n",
       "      <th>comp_id</th>\n",
       "      <th></th>\n",
       "      <th></th>\n",
       "      <th></th>\n",
       "    </tr>\n",
       "  </thead>\n",
       "  <tbody>\n",
       "    <tr>\n",
       "      <th>10000030533280313266</th>\n",
       "      <td>丽江童话假日旅行社有限公司</td>\n",
       "      <td>童话假日旅行是丽江童话假日旅行社所经营的滇西地区影响力比较大的纯玩品质旅行品牌，丽江童话...</td>\n",
       "      <td>[童话, 假日, 旅行, 是, 丽江, 童话, 假日, 旅行社, 所, 经营, 的, 滇西,...</td>\n",
       "    </tr>\n",
       "    <tr>\n",
       "      <th>10000039786266589368</th>\n",
       "      <td>梦幻影音（北京）文化传播有限公司</td>\n",
       "      <td>梦幻影音（北京）文化传播有限公司成立于2015年12月4日，位于北京市朝阳区，是一家影视创意...</td>\n",
       "      <td>[梦幻, 影音, （, 北京, ）, 文化, 传播, 有限公司, 成立, 于, 2015, ...</td>\n",
       "    </tr>\n",
       "  </tbody>\n",
       "</table>\n",
       "</div>"
      ],
      "text/plain": [
       "                        comp_full_name  \\\n",
       "comp_id                                  \n",
       "10000030533280313266     丽江童话假日旅行社有限公司   \n",
       "10000039786266589368  梦幻影音（北京）文化传播有限公司   \n",
       "\n",
       "                                                                  intro  \\\n",
       "comp_id                                                                   \n",
       "10000030533280313266  　　童话假日旅行是丽江童话假日旅行社所经营的滇西地区影响力比较大的纯玩品质旅行品牌，丽江童话...   \n",
       "10000039786266589368  梦幻影音（北京）文化传播有限公司成立于2015年12月4日，位于北京市朝阳区，是一家影视创意...   \n",
       "\n",
       "                                                                  words  \n",
       "comp_id                                                                  \n",
       "10000030533280313266  [童话, 假日, 旅行, 是, 丽江, 童话, 假日, 旅行社, 所, 经营, 的, 滇西,...  \n",
       "10000039786266589368  [梦幻, 影音, （, 北京, ）, 文化, 传播, 有限公司, 成立, 于, 2015, ...  "
      ]
     },
     "execution_count": 32,
     "metadata": {},
     "output_type": "execute_result"
    }
   ],
   "source": [
    "data_intro_filtered_merged.head(2)"
   ]
  },
  {
   "cell_type": "markdown",
   "metadata": {},
   "source": [
    "#### 去除停用词（标点）以及单字"
   ]
  },
  {
   "cell_type": "code",
   "execution_count": 38,
   "metadata": {},
   "outputs": [],
   "source": [
    "stopwords = open(\"../Data/Input/text_similarity/stopwords.txt\", \"r\").read().split(\"\\n\")\n",
    "stopwords[0] = \"，\"\n",
    "stopwords = set(stopwords)"
   ]
  },
  {
   "cell_type": "code",
   "execution_count": 45,
   "metadata": {},
   "outputs": [],
   "source": [
    "data_intro_filtered_merged.words = data_intro_filtered_merged.words.apply(lambda x: list(filter(lambda w: len(w) > 1 and w not in stopwords, x)))"
   ]
  },
  {
   "cell_type": "code",
   "execution_count": 59,
   "metadata": {},
   "outputs": [
    {
     "data": {
      "text/html": [
       "<div>\n",
       "<style scoped>\n",
       "    .dataframe tbody tr th:only-of-type {\n",
       "        vertical-align: middle;\n",
       "    }\n",
       "\n",
       "    .dataframe tbody tr th {\n",
       "        vertical-align: top;\n",
       "    }\n",
       "\n",
       "    .dataframe thead th {\n",
       "        text-align: right;\n",
       "    }\n",
       "</style>\n",
       "<table border=\"1\" class=\"dataframe\">\n",
       "  <thead>\n",
       "    <tr style=\"text-align: right;\">\n",
       "      <th></th>\n",
       "      <th>comp_full_name</th>\n",
       "      <th>intro</th>\n",
       "      <th>words</th>\n",
       "    </tr>\n",
       "    <tr>\n",
       "      <th>comp_id</th>\n",
       "      <th></th>\n",
       "      <th></th>\n",
       "      <th></th>\n",
       "    </tr>\n",
       "  </thead>\n",
       "  <tbody>\n",
       "    <tr>\n",
       "      <th>10000030533280313266</th>\n",
       "      <td>丽江童话假日旅行社有限公司</td>\n",
       "      <td>童话假日旅行是丽江童话假日旅行社所经营的滇西地区影响力比较大的纯玩品质旅行品牌，丽江童话...</td>\n",
       "      <td>[童话, 假日, 旅行, 丽江, 童话, 假日, 旅行社, 经营, 滇西, 地区, 影响力,...</td>\n",
       "    </tr>\n",
       "  </tbody>\n",
       "</table>\n",
       "</div>"
      ],
      "text/plain": [
       "                     comp_full_name  \\\n",
       "comp_id                               \n",
       "10000030533280313266  丽江童话假日旅行社有限公司   \n",
       "\n",
       "                                                                  intro  \\\n",
       "comp_id                                                                   \n",
       "10000030533280313266  　　童话假日旅行是丽江童话假日旅行社所经营的滇西地区影响力比较大的纯玩品质旅行品牌，丽江童话...   \n",
       "\n",
       "                                                                  words  \n",
       "comp_id                                                                  \n",
       "10000030533280313266  [童话, 假日, 旅行, 丽江, 童话, 假日, 旅行社, 经营, 滇西, 地区, 影响力,...  "
      ]
     },
     "execution_count": 59,
     "metadata": {},
     "output_type": "execute_result"
    }
   ],
   "source": [
    "data_intro_filtered_merged.head(1)"
   ]
  },
  {
   "cell_type": "code",
   "execution_count": 5,
   "metadata": {},
   "outputs": [],
   "source": [
    "model = gensim.models.KeyedVectors.load_word2vec_format(\"../Data/sgns.baidubaike.bigram-char\")"
   ]
  },
  {
   "cell_type": "code",
   "execution_count": 118,
   "metadata": {},
   "outputs": [],
   "source": [
    "pickle.dump(data_ctag_filtered, open(\"../Data/Input/Text_CNN/data_ctag_filtered.pkl\", \"wb\"))\n",
    "pickle.dump(data_intro_filtered_merged, open(\"../Data/Input/Text_CNN/data_intro_filtered_merged.pkl\", \"wb\"))"
   ]
  },
  {
   "cell_type": "code",
   "execution_count": 2,
   "metadata": {},
   "outputs": [],
   "source": [
    "data_ctag_filtered = pickle.load(open(\"../Data/Input/Text_CNN/data_ctag_filtered.pkl\", \"rb\"))\n",
    "data_intro_filtered_merged = pickle.load(open(\"../Data/Input/Text_CNN/data_intro_filtered_merged.pkl\", \"rb\"))"
   ]
  },
  {
   "cell_type": "code",
   "execution_count": 4,
   "metadata": {},
   "outputs": [],
   "source": [
    "words_raw = data_intro_filtered_merged.words.tolist()\n",
    "words_list = [x for y in words_raw for x in y]\n",
    "words_count = Counter(words_list)"
   ]
  },
  {
   "cell_type": "markdown",
   "metadata": {},
   "source": [
    "#### fasttext词向量"
   ]
  },
  {
   "cell_type": "code",
   "execution_count": 10,
   "metadata": {},
   "outputs": [],
   "source": [
    "fast_text_model = gensim.models.FastText(words_raw, min_count=5, size=300)"
   ]
  },
  {
   "cell_type": "code",
   "execution_count": null,
   "metadata": {},
   "outputs": [],
   "source": [
    "fast_text_model.wv.most_similar([\"科技\", \"金融\"], topn=100)"
   ]
  },
  {
   "cell_type": "markdown",
   "metadata": {},
   "source": [
    "#### fastest分类测试（只取底级标签）"
   ]
  },
  {
   "cell_type": "code",
   "execution_count": 20,
   "metadata": {},
   "outputs": [],
   "source": [
    "label_list = ctag_filtered_count[ctag_filtered_count.comp_full_name >= 500].label_name.tolist()"
   ]
  },
  {
   "cell_type": "code",
   "execution_count": 27,
   "metadata": {},
   "outputs": [],
   "source": [
    "label_data_to_use = data_ctag_filtered[(data_ctag_filtered.label_name.isin(label_list)) \\\n",
    "                                       & (data_ctag_filtered[[\"label_name\", \"one_src_tags\"]].apply(lambda x: x[0] == x[1].split(\"-\")[-1] , axis=1))]"
   ]
  },
  {
   "cell_type": "code",
   "execution_count": 38,
   "metadata": {},
   "outputs": [],
   "source": [
    "all_data = label_data_to_use.merge(data_intro_filtered_merged.reset_index(), how=\"left\", left_on=\"comp_id\", right_on=\"comp_id\")[[\"comp_id\", \"label_name\", \"words\"]]"
   ]
  },
  {
   "cell_type": "code",
   "execution_count": 40,
   "metadata": {},
   "outputs": [],
   "source": [
    "all_data.label_name = all_data.label_name.apply(lambda x: \"__label__\" + x)"
   ]
  },
  {
   "cell_type": "code",
   "execution_count": 46,
   "metadata": {},
   "outputs": [],
   "source": [
    "all_data[\"data_to_file\"] = all_data[[\"label_name\", \"words\"]].apply(lambda x: \" \".join([x[0], \" \".join(x[1])]), axis=1)"
   ]
  },
  {
   "cell_type": "code",
   "execution_count": 48,
   "metadata": {},
   "outputs": [
    {
     "data": {
      "text/html": [
       "<div>\n",
       "<style scoped>\n",
       "    .dataframe tbody tr th:only-of-type {\n",
       "        vertical-align: middle;\n",
       "    }\n",
       "\n",
       "    .dataframe tbody tr th {\n",
       "        vertical-align: top;\n",
       "    }\n",
       "\n",
       "    .dataframe thead th {\n",
       "        text-align: right;\n",
       "    }\n",
       "</style>\n",
       "<table border=\"1\" class=\"dataframe\">\n",
       "  <thead>\n",
       "    <tr style=\"text-align: right;\">\n",
       "      <th></th>\n",
       "      <th>comp_id</th>\n",
       "      <th>label_name</th>\n",
       "      <th>words</th>\n",
       "      <th>data_to_file</th>\n",
       "    </tr>\n",
       "  </thead>\n",
       "  <tbody>\n",
       "    <tr>\n",
       "      <th>0</th>\n",
       "      <td>4925886916505930450</td>\n",
       "      <td>__label__数据处理</td>\n",
       "      <td>[大连, 金普, 新区, 商品, 现货, 合约, 交易中心, 有限公司, 一家, 经营, 贵...</td>\n",
       "      <td>__label__数据处理 大连 金普 新区 商品 现货 合约 交易中心 有限公司 一家 经...</td>\n",
       "    </tr>\n",
       "    <tr>\n",
       "      <th>1</th>\n",
       "      <td>9780838354877475270</td>\n",
       "      <td>__label__LED</td>\n",
       "      <td>[东莞市, 真泽, 电子, 有限公司, 创立, 2010, 位于, 东莞市, 谢岗镇, 大龙...</td>\n",
       "      <td>__label__LED 东莞市 真泽 电子 有限公司 创立 2010 位于 东莞市 谢岗镇...</td>\n",
       "    </tr>\n",
       "    <tr>\n",
       "      <th>2</th>\n",
       "      <td>17881009136713614790</td>\n",
       "      <td>__label__物流服务</td>\n",
       "      <td>[公司, 国内, 知名, 快递, 物流, 企业, 韵达, 发展, 理念, 引领, 公司, 科...</td>\n",
       "      <td>__label__物流服务 公司 国内 知名 快递 物流 企业 韵达 发展 理念 引领 公司...</td>\n",
       "    </tr>\n",
       "    <tr>\n",
       "      <th>3</th>\n",
       "      <td>7849064920078805900</td>\n",
       "      <td>__label__文学</td>\n",
       "      <td>[品书, 传播, 机构, 国内, 第一家, 图书, 专业, 推广, 机构, 致力于, 阅读,...</td>\n",
       "      <td>__label__文学 品书 传播 机构 国内 第一家 图书 专业 推广 机构 致力于 阅读...</td>\n",
       "    </tr>\n",
       "    <tr>\n",
       "      <th>4</th>\n",
       "      <td>424408944238282740</td>\n",
       "      <td>__label__广告服务</td>\n",
       "      <td>[广东, 秒趣, 科技, 有限公司, 一家, 专注, 互联网, 服务, 高新技术, 企业, ...</td>\n",
       "      <td>__label__广告服务 广东 秒趣 科技 有限公司 一家 专注 互联网 服务 高新技术 ...</td>\n",
       "    </tr>\n",
       "  </tbody>\n",
       "</table>\n",
       "</div>"
      ],
      "text/plain": [
       "                comp_id     label_name  \\\n",
       "0   4925886916505930450  __label__数据处理   \n",
       "1   9780838354877475270   __label__LED   \n",
       "2  17881009136713614790  __label__物流服务   \n",
       "3   7849064920078805900    __label__文学   \n",
       "4    424408944238282740  __label__广告服务   \n",
       "\n",
       "                                               words  \\\n",
       "0  [大连, 金普, 新区, 商品, 现货, 合约, 交易中心, 有限公司, 一家, 经营, 贵...   \n",
       "1  [东莞市, 真泽, 电子, 有限公司, 创立, 2010, 位于, 东莞市, 谢岗镇, 大龙...   \n",
       "2  [公司, 国内, 知名, 快递, 物流, 企业, 韵达, 发展, 理念, 引领, 公司, 科...   \n",
       "3  [品书, 传播, 机构, 国内, 第一家, 图书, 专业, 推广, 机构, 致力于, 阅读,...   \n",
       "4  [广东, 秒趣, 科技, 有限公司, 一家, 专注, 互联网, 服务, 高新技术, 企业, ...   \n",
       "\n",
       "                                        data_to_file  \n",
       "0  __label__数据处理 大连 金普 新区 商品 现货 合约 交易中心 有限公司 一家 经...  \n",
       "1  __label__LED 东莞市 真泽 电子 有限公司 创立 2010 位于 东莞市 谢岗镇...  \n",
       "2  __label__物流服务 公司 国内 知名 快递 物流 企业 韵达 发展 理念 引领 公司...  \n",
       "3  __label__文学 品书 传播 机构 国内 第一家 图书 专业 推广 机构 致力于 阅读...  \n",
       "4  __label__广告服务 广东 秒趣 科技 有限公司 一家 专注 互联网 服务 高新技术 ...  "
      ]
     },
     "execution_count": 48,
     "metadata": {},
     "output_type": "execute_result"
    }
   ],
   "source": [
    "all_data.head()"
   ]
  },
  {
   "cell_type": "code",
   "execution_count": 51,
   "metadata": {},
   "outputs": [
    {
     "name": "stderr",
     "output_type": "stream",
     "text": [
      "/home/zijun.wu/packages/anaconda3/lib/python3.6/site-packages/sklearn/model_selection/_split.py:2026: FutureWarning: From version 0.21, test_size will always complement train_size unless both are specified.\n",
      "  FutureWarning)\n"
     ]
    }
   ],
   "source": [
    "train_data, test_data = train_test_split(all_data, train_size=0.8)"
   ]
  },
  {
   "cell_type": "code",
   "execution_count": 53,
   "metadata": {},
   "outputs": [
    {
     "data": {
      "text/plain": [
       "38285577"
      ]
     },
     "execution_count": 53,
     "metadata": {},
     "output_type": "execute_result"
    }
   ],
   "source": [
    "train_file = open(\"../Data/Input/Text_CNN/fasttext_train\", \"w\")\n",
    "train_file.write(\"\\n\".join(train_data.data_to_file.tolist()))\n",
    "train_file.close()"
   ]
  },
  {
   "cell_type": "code",
   "execution_count": 54,
   "metadata": {},
   "outputs": [],
   "source": [
    "train_file.close()"
   ]
  },
  {
   "cell_type": "code",
   "execution_count": null,
   "metadata": {},
   "outputs": [],
   "source": []
  }
 ],
 "metadata": {
  "kernelspec": {
   "display_name": "Python 3",
   "language": "python",
   "name": "python3"
  },
  "language_info": {
   "codemirror_mode": {
    "name": "ipython",
    "version": 3
   },
   "file_extension": ".py",
   "mimetype": "text/x-python",
   "name": "python",
   "nbconvert_exporter": "python",
   "pygments_lexer": "ipython3",
   "version": "3.6.4"
  }
 },
 "nbformat": 4,
 "nbformat_minor": 2
}
