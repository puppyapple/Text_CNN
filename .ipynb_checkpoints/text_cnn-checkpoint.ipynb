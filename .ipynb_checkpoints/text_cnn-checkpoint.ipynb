{
 "cells": [
  {
   "cell_type": "markdown",
   "metadata": {},
   "source": [
    "# TextCNN尝试"
   ]
  },
  {
   "cell_type": "code",
   "execution_count": null,
   "metadata": {},
   "outputs": [],
   "source": [
    "import pandas as pd\n",
    "import numpy as np\n",
    "import configparser\n",
    "import pymysql\n",
    "import matplotlib.pyplot as plt\n",
    "import jieba\n",
    "import jieba.analyse\n",
    "import gensim\n",
    "import pickle\n",
    "import fasttext\n",
    "from sklearn.model_selection import train_test_split\n",
    "from collections import Counter\n",
    "%matplotlib inline\n",
    "import fool"
   ]
  },
  {
   "cell_type": "code",
   "execution_count": null,
   "metadata": {},
   "outputs": [],
   "source": [
    "config = configparser.ConfigParser()\n",
    "config.read(\"../Data/Input/database_config/database.conf\")\n",
    "host = config['ASSESSMENT']['host']\n",
    "user = config['ASSESSMENT']['user']\n",
    "password = config['ASSESSMENT']['password']\n",
    "database = config['ASSESSMENT']['database']\n",
    "port = config['ASSESSMENT']['port']\n",
    "charset = config['ASSESSMENT']['charset']\n",
    "db = pymysql.connect(host=host, user=user, password=password, db=database, port=int(port), charset=charset)"
   ]
  },
  {
   "cell_type": "markdown",
   "metadata": {},
   "source": [
    "## 一、数据预处理"
   ]
  },
  {
   "cell_type": "markdown",
   "metadata": {},
   "source": [
    "### 从数据库读取标签和文本信息"
   ]
  },
  {
   "cell_type": "code",
   "execution_count": null,
   "metadata": {},
   "outputs": [],
   "source": [
    "sql_intro = \"select * from company_intro_info_latest0601\"\n",
    "sql_tag = \"select * from company_tag_info_latest0601\"\n",
    "data_intro = pd.read_sql(sql_intro, con=db)\n",
    "data_tag = pd.read_sql(sql_tag, con=db)"
   ]
  },
  {
   "cell_type": "code",
   "execution_count": null,
   "metadata": {},
   "outputs": [],
   "source": [
    "# 剔除非概念标签和技术标签\n",
    "data_ctag_only = data_tag[(data_tag.remarks != \"1\") & (data_tag.classify_id != 4)].copy()"
   ]
  },
  {
   "cell_type": "code",
   "execution_count": null,
   "metadata": {},
   "outputs": [],
   "source": [
    "data_ctag_only.head(1)"
   ]
  },
  {
   "cell_type": "code",
   "execution_count": null,
   "metadata": {},
   "outputs": [],
   "source": [
    "data_intro.head(1)"
   ]
  },
  {
   "cell_type": "code",
   "execution_count": null,
   "metadata": {},
   "outputs": [],
   "source": [
    "ctag_count = data_ctag_only.groupby(\"label_name\").agg({\"comp_full_name\": \"count\"}).sort_values(by=\"comp_full_name\", ascending=False).reset_index()"
   ]
  },
  {
   "cell_type": "code",
   "execution_count": null,
   "metadata": {},
   "outputs": [],
   "source": [
    "ctag_count[ctag_count.comp_full_name >= 1000]"
   ]
  },
  {
   "cell_type": "markdown",
   "metadata": {},
   "source": [
    "### 分离出每个标签的标签链条，过滤进行中的产业链"
   ]
  },
  {
   "cell_type": "code",
   "execution_count": null,
   "metadata": {},
   "outputs": [],
   "source": [
    "def src_tags_splitter(src_tags):\n",
    "    links = src_tags.split(\"#\")\n",
    "    tags_lists = [link.split(\"-\") for link in links]\n",
    "    tags = set([x for y in tags_lists for x in y])\n",
    "    return tags"
   ]
  },
  {
   "cell_type": "code",
   "execution_count": null,
   "metadata": {},
   "outputs": [],
   "source": [
    "data_ctag_only[\"one_src_tags\"] = data_ctag_only[[\"label_type_num\", \"src_tags\"]].apply(lambda x: x[1].split(\"#\")[x[0] - 1], axis=1)"
   ]
  },
  {
   "cell_type": "code",
   "execution_count": null,
   "metadata": {},
   "outputs": [],
   "source": [
    "data_ctag_only[\"tags_list\"] = data_ctag_only.src_tags.apply(lambda x: src_tags_splitter(x))"
   ]
  },
  {
   "cell_type": "code",
   "execution_count": null,
   "metadata": {},
   "outputs": [],
   "source": [
    "filter_list = \"泛娱乐,生物科学,科技金融,智能网联汽车,科技物流,文化娱乐行业,数字媒体行业,广告营销行业,游戏行业,教育培训行业,电子商务行业,汽车交通,房产家装,医疗健康行业,新零售\".split(\",\")"
   ]
  },
  {
   "cell_type": "code",
   "execution_count": null,
   "metadata": {},
   "outputs": [],
   "source": [
    "data_ctag_filtered = data_ctag_only[~data_ctag_only.one_src_tags.apply(lambda x: x.split(\"-\")[0]).isin(filter_list)][[\"comp_id\", \"comp_full_name\", \"label_name\", \"src_tags\", \"one_src_tags\", \"tags_list\"]].copy()"
   ]
  },
  {
   "cell_type": "code",
   "execution_count": null,
   "metadata": {},
   "outputs": [],
   "source": [
    "data_ctag_filtered.head()"
   ]
  },
  {
   "cell_type": "code",
   "execution_count": null,
   "metadata": {},
   "outputs": [],
   "source": [
    "ctag_filtered_count = data_ctag_filtered.groupby(\"label_name\").agg({\"comp_full_name\": \"count\"}).sort_values(by=\"comp_full_name\", ascending=False).reset_index()"
   ]
  },
  {
   "cell_type": "markdown",
   "metadata": {},
   "source": [
    "### 根据公司名字过滤公司简介，并作合并、分词"
   ]
  },
  {
   "cell_type": "code",
   "execution_count": null,
   "metadata": {},
   "outputs": [],
   "source": [
    "data_intro_filtered = data_intro[(data_intro.comp_id.isin(data_ctag_filtered.comp_id)) & (data_intro.classify_id != 4)][[\"comp_id\", \"comp_full_name\", \"intro\"]].copy()"
   ]
  },
  {
   "cell_type": "code",
   "execution_count": null,
   "metadata": {},
   "outputs": [],
   "source": [
    "data_intro_filtered.head(1)"
   ]
  },
  {
   "cell_type": "code",
   "execution_count": null,
   "metadata": {},
   "outputs": [],
   "source": [
    "data_intro_filtered_merged = data_intro_filtered.groupby(\"comp_id\").agg({\"comp_full_name\": max, \"intro\": lambda x: \"。\".join(x)})"
   ]
  },
  {
   "cell_type": "code",
   "execution_count": null,
   "metadata": {},
   "outputs": [],
   "source": [
    "len(data_intro_filtered_merged), len(set(data_intro_filtered.comp_id)), len(set(data_ctag_filtered.comp_id))"
   ]
  },
  {
   "cell_type": "code",
   "execution_count": null,
   "metadata": {},
   "outputs": [],
   "source": [
    "data_intro_filtered_merged[\"words\"] = data_intro_filtered_merged.intro.apply(lambda x: jieba.lcut(x.strip()))"
   ]
  },
  {
   "cell_type": "code",
   "execution_count": null,
   "metadata": {},
   "outputs": [],
   "source": [
    "data_intro_filtered_merged.head(2)"
   ]
  },
  {
   "cell_type": "markdown",
   "metadata": {},
   "source": [
    "### 去除停用词（标点）以及单字"
   ]
  },
  {
   "cell_type": "code",
   "execution_count": null,
   "metadata": {},
   "outputs": [],
   "source": [
    "stopwords = open(\"../Data/Input/text_similarity/stopwords.txt\", \"r\").read().split(\"\\n\")\n",
    "stopwords[0] = \"，\"\n",
    "stopwords = set(stopwords)"
   ]
  },
  {
   "cell_type": "code",
   "execution_count": null,
   "metadata": {},
   "outputs": [],
   "source": [
    "data_intro_filtered_merged.words = data_intro_filtered_merged.words.apply(lambda x: list(filter(lambda w: len(w) > 1 and w not in stopwords, x)))"
   ]
  },
  {
   "cell_type": "code",
   "execution_count": null,
   "metadata": {},
   "outputs": [],
   "source": [
    "data_intro_filtered_merged.head(1)"
   ]
  },
  {
   "cell_type": "code",
   "execution_count": null,
   "metadata": {},
   "outputs": [],
   "source": [
    "model = gensim.models.KeyedVectors.load_word2vec_format(\"../Data/sgns.baidubaike.bigram-char\")"
   ]
  },
  {
   "cell_type": "code",
   "execution_count": null,
   "metadata": {},
   "outputs": [],
   "source": [
    "pickle.dump(data_ctag_filtered, open(\"../Data/Input/Text_CNN/data_ctag_filtered.pkl\", \"wb\"))\n",
    "pickle.dump(data_intro_filtered_merged, open(\"../Data/Input/Text_CNN/data_intro_filtered_merged.pkl\", \"wb\"))"
   ]
  },
  {
   "cell_type": "code",
   "execution_count": null,
   "metadata": {},
   "outputs": [],
   "source": [
    "data_ctag_filtered = pickle.load(open(\"../Data/Input/Text_CNN/data_ctag_filtered.pkl\", \"rb\"))\n",
    "data_intro_filtered_merged = pickle.load(open(\"../Data/Input/Text_CNN/data_intro_filtered_merged.pkl\", \"rb\"))"
   ]
  },
  {
   "cell_type": "code",
   "execution_count": null,
   "metadata": {},
   "outputs": [],
   "source": [
    "words_raw = data_intro_filtered_merged.words.tolist()\n",
    "words_list = [x for y in words_raw for x in y]\n",
    "words_count = Counter(words_list)"
   ]
  },
  {
   "cell_type": "markdown",
   "metadata": {},
   "source": [
    "## 二、词向量和分类模型测试"
   ]
  },
  {
   "cell_type": "markdown",
   "metadata": {},
   "source": [
    "### fasttext词向量"
   ]
  },
  {
   "cell_type": "code",
   "execution_count": null,
   "metadata": {},
   "outputs": [],
   "source": [
    "fast_text_model = gensim.models.FastText(words_raw, min_count=5, size=300)"
   ]
  },
  {
   "cell_type": "code",
   "execution_count": null,
   "metadata": {},
   "outputs": [],
   "source": [
    "fast_text_model.wv.most_similar([\"科技\", \"金融\"], topn=100)"
   ]
  },
  {
   "cell_type": "markdown",
   "metadata": {},
   "source": [
    "### fastest分类测试（只取底级标签）"
   ]
  },
  {
   "cell_type": "code",
   "execution_count": null,
   "metadata": {},
   "outputs": [],
   "source": [
    "label_list = ctag_filtered_count[ctag_filtered_count.comp_full_name >= 500].label_name.tolist()"
   ]
  },
  {
   "cell_type": "code",
   "execution_count": null,
   "metadata": {},
   "outputs": [],
   "source": [
    "label_data_to_use = data_ctag_filtered[(data_ctag_filtered.label_name.isin(label_list)) \\\n",
    "                                       & (data_ctag_filtered[[\"label_name\", \"one_src_tags\"]].apply(lambda x: x[0] == x[1].split(\"-\")[-1] , axis=1))]"
   ]
  },
  {
   "cell_type": "code",
   "execution_count": null,
   "metadata": {},
   "outputs": [],
   "source": [
    "all_data = label_data_to_use.merge(data_intro_filtered_merged.reset_index(), how=\"left\", left_on=\"comp_id\", right_on=\"comp_id\")[[\"comp_id\", \"label_name\", \"words\"]]"
   ]
  },
  {
   "cell_type": "code",
   "execution_count": null,
   "metadata": {},
   "outputs": [],
   "source": [
    "all_data.label_name = all_data.label_name.apply(lambda x: \"__label__\" + x)"
   ]
  },
  {
   "cell_type": "code",
   "execution_count": null,
   "metadata": {},
   "outputs": [],
   "source": [
    "all_data[\"data_to_file\"] = all_data[[\"label_name\", \"words\"]].apply(lambda x: \" \".join([x[0], \" \".join(x[1])]), axis=1)"
   ]
  },
  {
   "cell_type": "code",
   "execution_count": null,
   "metadata": {},
   "outputs": [],
   "source": [
    "all_data.head()"
   ]
  },
  {
   "cell_type": "code",
   "execution_count": null,
   "metadata": {},
   "outputs": [],
   "source": [
    "train_data, test_data = train_test_split(all_data, train_size=0.8)"
   ]
  },
  {
   "cell_type": "code",
   "execution_count": null,
   "metadata": {},
   "outputs": [],
   "source": [
    "train_file = open(\"../Data/Input/Text_CNN/fasttext_train\", \"w\")\n",
    "train_file.write(\"\\n\".join(train_data.data_to_file.tolist()))\n",
    "train_file.close()"
   ]
  },
  {
   "cell_type": "code",
   "execution_count": null,
   "metadata": {},
   "outputs": [],
   "source": [
    "test_file = open(\"../Data/Input/Text_CNN/fasttext_test\", \"w\")\n",
    "test_file.write(\"\\n\".join(test_data.data_to_file.tolist()))\n",
    "test_file.close()"
   ]
  },
  {
   "cell_type": "code",
   "execution_count": null,
   "metadata": {},
   "outputs": [],
   "source": [
    "classifier = fasttext.supervised(\"../Data/Input/Text_CNN/fasttext_train\", \"fasttext.model\", dim=300, loss=\"hs\")"
   ]
  },
  {
   "cell_type": "code",
   "execution_count": null,
   "metadata": {},
   "outputs": [],
   "source": [
    "result = classifier.test(\"../Data/Input/Text_CNN/fasttext_test\")"
   ]
  },
  {
   "cell_type": "code",
   "execution_count": null,
   "metadata": {},
   "outputs": [],
   "source": [
    "index_num = 0\n",
    "test_text = \" \".join(test_data.iloc[0].data_to_file.split(\" \")[1:])"
   ]
  },
  {
   "cell_type": "code",
   "execution_count": null,
   "metadata": {},
   "outputs": [],
   "source": [
    "test_df = all_data[[\"label_name\", \"words\"]].copy()"
   ]
  },
  {
   "cell_type": "code",
   "execution_count": null,
   "metadata": {},
   "outputs": [],
   "source": [
    "test_df[\"top_result\"] = classifier.predict(test_df.words.apply(lambda x: \" \".join(x)).tolist(),k=3)\n",
    "test_df[\"real_label\"] = test_df.label_name.apply(lambda x: x.strip(\"__label__\"))\n",
    "test_df[\"pred_result\"] = test_df[[\"real_label\", \"top_result\"]].apply(lambda x: x[0] in x[1], axis=1)"
   ]
  },
  {
   "cell_type": "code",
   "execution_count": null,
   "metadata": {},
   "outputs": [],
   "source": [
    "sum(test_df.pred_result)/len(test_df)"
   ]
  },
  {
   "cell_type": "code",
   "execution_count": null,
   "metadata": {},
   "outputs": [],
   "source": [
    "test_df"
   ]
  },
  {
   "cell_type": "markdown",
   "metadata": {},
   "source": [
    "#### 思路记录\n",
    "可以选取大语料（优质、不优质都包含）训练词向量，然后任意两组词可以计算距离，那么等同于可以计算任意两个公司的距离"
   ]
  },
  {
   "cell_type": "markdown",
   "metadata": {},
   "source": [
    "## 三、取全量语料测试"
   ]
  },
  {
   "cell_type": "code",
   "execution_count": null,
   "metadata": {},
   "outputs": [],
   "source": []
  }
 ],
 "metadata": {
  "kernelspec": {
   "display_name": "Python [default]",
   "language": "python",
   "name": "python3"
  },
  "language_info": {
   "codemirror_mode": {
    "name": "ipython",
    "version": 3
   },
   "file_extension": ".py",
   "mimetype": "text/x-python",
   "name": "python",
   "nbconvert_exporter": "python",
   "pygments_lexer": "ipython3",
   "version": "3.6.4"
  }
 },
 "nbformat": 4,
 "nbformat_minor": 2
}
